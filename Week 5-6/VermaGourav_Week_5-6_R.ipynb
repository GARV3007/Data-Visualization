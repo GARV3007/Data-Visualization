{
 "cells": [
  {
   "cell_type": "markdown",
   "metadata": {},
   "source": [
    "Gourav Verma<br>\n",
    "Week 5-6 <br>\n",
    "Visualizing Proportions using R"
   ]
  },
  {
   "cell_type": "code",
   "execution_count": 22,
   "metadata": {},
   "outputs": [],
   "source": [
    "# Import important libraries\n",
    "library('magrittr')"
   ]
  },
  {
   "cell_type": "code",
   "execution_count": 23,
   "metadata": {},
   "outputs": [
    {
     "data": {
      "text/html": [
       "<table>\n",
       "<caption>A data.frame: 6 × 4</caption>\n",
       "<thead>\n",
       "\t<tr><th></th><th scope=col>Series.id</th><th scope=col>Year</th><th scope=col>Period</th><th scope=col>Value</th></tr>\n",
       "\t<tr><th></th><th scope=col>&lt;fct&gt;</th><th scope=col>&lt;int&gt;</th><th scope=col>&lt;fct&gt;</th><th scope=col>&lt;dbl&gt;</th></tr>\n",
       "</thead>\n",
       "<tbody>\n",
       "\t<tr><th scope=row>1</th><td>LNS14000000</td><td>1948</td><td>M01</td><td>3.4</td></tr>\n",
       "\t<tr><th scope=row>2</th><td>LNS14000000</td><td>1948</td><td>M02</td><td>3.8</td></tr>\n",
       "\t<tr><th scope=row>3</th><td>LNS14000000</td><td>1948</td><td>M03</td><td>4.0</td></tr>\n",
       "\t<tr><th scope=row>4</th><td>LNS14000000</td><td>1948</td><td>M04</td><td>3.9</td></tr>\n",
       "\t<tr><th scope=row>5</th><td>LNS14000000</td><td>1948</td><td>M05</td><td>3.5</td></tr>\n",
       "\t<tr><th scope=row>6</th><td>LNS14000000</td><td>1948</td><td>M06</td><td>3.6</td></tr>\n",
       "</tbody>\n",
       "</table>\n"
      ],
      "text/latex": [
       "A data.frame: 6 × 4\n",
       "\\begin{tabular}{r|llll}\n",
       "  & Series.id & Year & Period & Value\\\\\n",
       "  & <fct> & <int> & <fct> & <dbl>\\\\\n",
       "\\hline\n",
       "\t1 & LNS14000000 & 1948 & M01 & 3.4\\\\\n",
       "\t2 & LNS14000000 & 1948 & M02 & 3.8\\\\\n",
       "\t3 & LNS14000000 & 1948 & M03 & 4.0\\\\\n",
       "\t4 & LNS14000000 & 1948 & M04 & 3.9\\\\\n",
       "\t5 & LNS14000000 & 1948 & M05 & 3.5\\\\\n",
       "\t6 & LNS14000000 & 1948 & M06 & 3.6\\\\\n",
       "\\end{tabular}\n"
      ],
      "text/markdown": [
       "\n",
       "A data.frame: 6 × 4\n",
       "\n",
       "| <!--/--> | Series.id &lt;fct&gt; | Year &lt;int&gt; | Period &lt;fct&gt; | Value &lt;dbl&gt; |\n",
       "|---|---|---|---|---|\n",
       "| 1 | LNS14000000 | 1948 | M01 | 3.4 |\n",
       "| 2 | LNS14000000 | 1948 | M02 | 3.8 |\n",
       "| 3 | LNS14000000 | 1948 | M03 | 4.0 |\n",
       "| 4 | LNS14000000 | 1948 | M04 | 3.9 |\n",
       "| 5 | LNS14000000 | 1948 | M05 | 3.5 |\n",
       "| 6 | LNS14000000 | 1948 | M06 | 3.6 |\n",
       "\n"
      ],
      "text/plain": [
       "  Series.id   Year Period Value\n",
       "1 LNS14000000 1948 M01    3.4  \n",
       "2 LNS14000000 1948 M02    3.8  \n",
       "3 LNS14000000 1948 M03    4.0  \n",
       "4 LNS14000000 1948 M04    3.9  \n",
       "5 LNS14000000 1948 M05    3.5  \n",
       "6 LNS14000000 1948 M06    3.6  "
      ]
     },
     "metadata": {},
     "output_type": "display_data"
    },
    {
     "data": {
      "text/html": [
       "<table>\n",
       "<caption>A data.frame: 6 × 4</caption>\n",
       "<thead>\n",
       "\t<tr><th></th><th scope=col>year</th><th scope=col>category</th><th scope=col>expenditure</th><th scope=col>sex</th></tr>\n",
       "\t<tr><th></th><th scope=col>&lt;int&gt;</th><th scope=col>&lt;fct&gt;</th><th scope=col>&lt;int&gt;</th><th scope=col>&lt;int&gt;</th></tr>\n",
       "</thead>\n",
       "<tbody>\n",
       "\t<tr><th scope=row>1</th><td>2008</td><td>Food               </td><td> 6443</td><td>1</td></tr>\n",
       "\t<tr><th scope=row>2</th><td>2008</td><td>Alcoholic Beverages</td><td>  444</td><td>1</td></tr>\n",
       "\t<tr><th scope=row>3</th><td>2008</td><td>Housing            </td><td>17109</td><td>1</td></tr>\n",
       "\t<tr><th scope=row>4</th><td>2008</td><td>Apparel            </td><td> 1801</td><td>1</td></tr>\n",
       "\t<tr><th scope=row>5</th><td>2008</td><td>Transportation     </td><td> 8604</td><td>1</td></tr>\n",
       "\t<tr><th scope=row>6</th><td>2008</td><td>Healthcare         </td><td> 2976</td><td>1</td></tr>\n",
       "</tbody>\n",
       "</table>\n"
      ],
      "text/latex": [
       "A data.frame: 6 × 4\n",
       "\\begin{tabular}{r|llll}\n",
       "  & year & category & expenditure & sex\\\\\n",
       "  & <int> & <fct> & <int> & <int>\\\\\n",
       "\\hline\n",
       "\t1 & 2008 & Food                &  6443 & 1\\\\\n",
       "\t2 & 2008 & Alcoholic Beverages &   444 & 1\\\\\n",
       "\t3 & 2008 & Housing             & 17109 & 1\\\\\n",
       "\t4 & 2008 & Apparel             &  1801 & 1\\\\\n",
       "\t5 & 2008 & Transportation      &  8604 & 1\\\\\n",
       "\t6 & 2008 & Healthcare          &  2976 & 1\\\\\n",
       "\\end{tabular}\n"
      ],
      "text/markdown": [
       "\n",
       "A data.frame: 6 × 4\n",
       "\n",
       "| <!--/--> | year &lt;int&gt; | category &lt;fct&gt; | expenditure &lt;int&gt; | sex &lt;int&gt; |\n",
       "|---|---|---|---|---|\n",
       "| 1 | 2008 | Food                |  6443 | 1 |\n",
       "| 2 | 2008 | Alcoholic Beverages |   444 | 1 |\n",
       "| 3 | 2008 | Housing             | 17109 | 1 |\n",
       "| 4 | 2008 | Apparel             |  1801 | 1 |\n",
       "| 5 | 2008 | Transportation      |  8604 | 1 |\n",
       "| 6 | 2008 | Healthcare          |  2976 | 1 |\n",
       "\n"
      ],
      "text/plain": [
       "  year category            expenditure sex\n",
       "1 2008 Food                 6443       1  \n",
       "2 2008 Alcoholic Beverages   444       1  \n",
       "3 2008 Housing             17109       1  \n",
       "4 2008 Apparel              1801       1  \n",
       "5 2008 Transportation       8604       1  \n",
       "6 2008 Healthcare           2976       1  "
      ]
     },
     "metadata": {},
     "output_type": "display_data"
    }
   ],
   "source": [
    "unemp <- read.csv('unemployement-rate-1948-2010.csv')\n",
    "expd <- read.delim('expenditures.txt')\n",
    "head(unemp)\n",
    "head(expd)"
   ]
  },
  {
   "cell_type": "markdown",
   "metadata": {},
   "source": [
    "### Tree Map"
   ]
  },
  {
   "cell_type": "code",
   "execution_count": 24,
   "metadata": {},
   "outputs": [
    {
     "data": {
      "image/png": "[encoded data removed]",
      "text/plain": [
       "plot without title"
      ]
     },
     "metadata": {},
     "output_type": "display_data"
    }
   ],
   "source": [
    "treemap::treemap(expd,index = c('category'),\n",
    "                 vSize = 'expenditure',\n",
    "                 title = 'Expenditure by Category', \n",
    "                 palette = 'RdYlGn')"
   ]
  },
  {
   "cell_type": "markdown",
   "metadata": {},
   "source": [
    "### Area Chart"
   ]
  },
  {
   "cell_type": "code",
   "execution_count": 25,
   "metadata": {},
   "outputs": [
    {
     "data": {
      "text/html": [
       "<table>\n",
       "<caption>A tibble: 6 × 2</caption>\n",
       "<thead>\n",
       "\t<tr><th scope=col>Year</th><th scope=col>Average Value</th></tr>\n",
       "\t<tr><th scope=col>&lt;int&gt;</th><th scope=col>&lt;dbl&gt;</th></tr>\n",
       "</thead>\n",
       "<tbody>\n",
       "\t<tr><td>1948</td><td>3.750000</td></tr>\n",
       "\t<tr><td>1949</td><td>6.050000</td></tr>\n",
       "\t<tr><td>1950</td><td>5.208333</td></tr>\n",
       "\t<tr><td>1951</td><td>3.283333</td></tr>\n",
       "\t<tr><td>1952</td><td>3.025000</td></tr>\n",
       "\t<tr><td>1953</td><td>2.925000</td></tr>\n",
       "</tbody>\n",
       "</table>\n"
      ],
      "text/latex": [
       "A tibble: 6 × 2\n",
       "\\begin{tabular}{ll}\n",
       " Year & Average Value\\\\\n",
       " <int> & <dbl>\\\\\n",
       "\\hline\n",
       "\t 1948 & 3.750000\\\\\n",
       "\t 1949 & 6.050000\\\\\n",
       "\t 1950 & 5.208333\\\\\n",
       "\t 1951 & 3.283333\\\\\n",
       "\t 1952 & 3.025000\\\\\n",
       "\t 1953 & 2.925000\\\\\n",
       "\\end{tabular}\n"
      ],
      "text/markdown": [
       "\n",
       "A tibble: 6 × 2\n",
       "\n",
       "| Year &lt;int&gt; | Average Value &lt;dbl&gt; |\n",
       "|---|---|\n",
       "| 1948 | 3.750000 |\n",
       "| 1949 | 6.050000 |\n",
       "| 1950 | 5.208333 |\n",
       "| 1951 | 3.283333 |\n",
       "| 1952 | 3.025000 |\n",
       "| 1953 | 2.925000 |\n",
       "\n"
      ],
      "text/plain": [
       "  Year Average Value\n",
       "1 1948 3.750000     \n",
       "2 1949 6.050000     \n",
       "3 1950 5.208333     \n",
       "4 1951 3.283333     \n",
       "5 1952 3.025000     \n",
       "6 1953 2.925000     "
      ]
     },
     "metadata": {},
     "output_type": "display_data"
    }
   ],
   "source": [
    "avg_unemp = unemp %>%\n",
    "    dplyr::group_by(Year) %>%\n",
    "    dplyr::summarize('Average Value' = mean(Value))\n",
    "\n",
    "head(avg_unemp)"
   ]
  },
  {
   "cell_type": "code",
   "execution_count": 26,
   "metadata": {},
   "outputs": [
    {
     "data": {
      "image/png": "[encoded data removed]",
      "text/plain": [
       "plot without title"
      ]
     },
     "metadata": {},
     "output_type": "display_data"
    }
   ],
   "source": [
    "ggplot2::ggplot(avg_unemp, ggplot2::aes(x=Year , y=`Average Value`)) +\n",
    "ggplot2::geom_area( fill='blue', alpha=.2) +\n",
    "ggplot2::geom_line() +\n",
    "ggplot2::ggtitle('Average Value by Year')"
   ]
  },
  {
   "cell_type": "markdown",
   "metadata": {},
   "source": [
    "### Stacked Area Chart"
   ]
  },
  {
   "cell_type": "code",
   "execution_count": 27,
   "metadata": {},
   "outputs": [
    {
     "data": {
      "image/png": "[encoded data removed]",
      "text/plain": [
       "plot without title"
      ]
     },
     "metadata": {},
     "output_type": "display_data"
    }
   ],
   "source": [
    "ggplot2::ggplot(expd, ggplot2::aes(x=year, y=expenditure, fill=category)) + \n",
    "  ggplot2::geom_area()"
   ]
  },
  {
   "cell_type": "code",
   "execution_count": null,
   "metadata": {},
   "outputs": [],
   "source": []
  }
 ],
 "metadata": {
  "kernelspec": {
   "display_name": "R",
   "language": "R",
   "name": "ir"
  },
  "language_info": {
   "codemirror_mode": "r",
   "file_extension": ".r",
   "mimetype": "text/x-r-source",
   "name": "R",
   "pygments_lexer": "r",
   "version": "3.6.1"
  }
 },
 "nbformat": 4,
 "nbformat_minor": 2
}
